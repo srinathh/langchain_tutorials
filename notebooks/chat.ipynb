{
 "cells": [
  {
   "cell_type": "code",
   "id": "initial_id",
   "metadata": {
    "collapsed": true,
    "ExecuteTime": {
     "end_time": "2025-02-03T13:54:24.607753Z",
     "start_time": "2025-02-03T13:54:24.590007Z"
    }
   },
   "source": [
    "from dotenv import load_dotenv\n",
    "load_dotenv()"
   ],
   "outputs": [
    {
     "data": {
      "text/plain": [
       "True"
      ]
     },
     "execution_count": 1,
     "metadata": {},
     "output_type": "execute_result"
    }
   ],
   "execution_count": 1
  },
  {
   "metadata": {
    "ExecuteTime": {
     "end_time": "2025-02-03T13:54:25.776658Z",
     "start_time": "2025-02-03T13:54:25.771468Z"
    }
   },
   "cell_type": "code",
   "source": [
    "import os\n",
    "assert os.environ.get(\"OPENAI_API_KEY\") != \"\"\n"
   ],
   "id": "dcad0f97a57292a7",
   "outputs": [],
   "execution_count": 2
  },
  {
   "metadata": {
    "ExecuteTime": {
     "end_time": "2025-02-03T13:54:28.697825Z",
     "start_time": "2025-02-03T13:54:26.749155Z"
    }
   },
   "cell_type": "code",
   "source": "from langchain_openai import ChatOpenAI",
   "id": "f7ab35b1175f5ab3",
   "outputs": [],
   "execution_count": 3
  },
  {
   "metadata": {
    "ExecuteTime": {
     "end_time": "2025-02-03T13:54:28.812396Z",
     "start_time": "2025-02-03T13:54:28.708125Z"
    }
   },
   "cell_type": "code",
   "source": "model = ChatOpenAI(model_name=\"gpt-4o-mini\")",
   "id": "2735fe999dec6e46",
   "outputs": [],
   "execution_count": 4
  },
  {
   "metadata": {
    "ExecuteTime": {
     "end_time": "2025-02-03T13:54:29.034789Z",
     "start_time": "2025-02-03T13:54:29.029880Z"
    }
   },
   "cell_type": "code",
   "source": "from langchain_core.messages import HumanMessage, SystemMessage",
   "id": "48bac2b367fd381d",
   "outputs": [],
   "execution_count": 5
  },
  {
   "metadata": {
    "ExecuteTime": {
     "end_time": "2025-02-03T13:54:34.662147Z",
     "start_time": "2025-02-03T13:54:34.656721Z"
    }
   },
   "cell_type": "code",
   "source": [
    "messages = [\n",
    "    SystemMessage(\"You are a translator. Translate the provided message to Latin\"),\n",
    "    HumanMessage(\"Hello World!\"),\n",
    "]"
   ],
   "id": "e6e3c4cd706858c2",
   "outputs": [],
   "execution_count": 6
  },
  {
   "metadata": {
    "ExecuteTime": {
     "end_time": "2025-02-03T13:54:38.751559Z",
     "start_time": "2025-02-03T13:54:36.489798Z"
    }
   },
   "cell_type": "code",
   "source": "response = model.invoke(messages)",
   "id": "51b0d515e98bca40",
   "outputs": [],
   "execution_count": 7
  },
  {
   "metadata": {
    "ExecuteTime": {
     "end_time": "2025-02-03T13:54:42.133001Z",
     "start_time": "2025-02-03T13:54:42.125655Z"
    }
   },
   "cell_type": "code",
   "source": "print(response)",
   "id": "d1063b161a71a8b1",
   "outputs": [
    {
     "name": "stdout",
     "output_type": "stream",
     "text": [
      "content='Salve Mundi!' additional_kwargs={'refusal': None} response_metadata={'token_usage': {'completion_tokens': 6, 'prompt_tokens': 25, 'total_tokens': 31, 'completion_tokens_details': {'accepted_prediction_tokens': 0, 'audio_tokens': 0, 'reasoning_tokens': 0, 'rejected_prediction_tokens': 0}, 'prompt_tokens_details': {'audio_tokens': 0, 'cached_tokens': 0}}, 'model_name': 'gpt-4o-mini-2024-07-18', 'system_fingerprint': 'fp_bd83329f63', 'finish_reason': 'stop', 'logprobs': None} id='run-0ef8fb1b-b639-457c-a14a-0537ec47e8d3-0' usage_metadata={'input_tokens': 25, 'output_tokens': 6, 'total_tokens': 31, 'input_token_details': {'audio': 0, 'cache_read': 0}, 'output_token_details': {'audio': 0, 'reasoning': 0}}\n"
     ]
    }
   ],
   "execution_count": 8
  },
  {
   "metadata": {
    "ExecuteTime": {
     "end_time": "2025-02-03T13:54:48.759488Z",
     "start_time": "2025-02-03T13:54:48.754227Z"
    }
   },
   "cell_type": "code",
   "source": "from langchain_core.prompts import ChatPromptTemplate",
   "id": "a0683bb9cb57df69",
   "outputs": [],
   "execution_count": 9
  },
  {
   "metadata": {
    "ExecuteTime": {
     "end_time": "2025-02-03T13:57:39.417862Z",
     "start_time": "2025-02-03T13:57:39.411684Z"
    }
   },
   "cell_type": "code",
   "source": [
    "template = ChatPromptTemplate(messages=[\n",
    "    (\"system\",\"Your job is to translate from English to {language}.\"),\n",
    "    (\"user\",\"{message}\"),\n",
    "])"
   ],
   "id": "6f84f69f088b5789",
   "outputs": [],
   "execution_count": 18
  },
  {
   "metadata": {
    "ExecuteTime": {
     "end_time": "2025-02-03T13:57:40.803564Z",
     "start_time": "2025-02-03T13:57:40.796754Z"
    }
   },
   "cell_type": "code",
   "source": "prompt = template.invoke({\"language\":\"french\",\"message\":\"Hello and Goodbye\"})",
   "id": "642aff39f7cad96a",
   "outputs": [],
   "execution_count": 19
  },
  {
   "metadata": {
    "ExecuteTime": {
     "end_time": "2025-02-03T13:57:43.608283Z",
     "start_time": "2025-02-03T13:57:43.601787Z"
    }
   },
   "cell_type": "code",
   "source": "print(prompt)",
   "id": "f00380edd0480ec6",
   "outputs": [
    {
     "name": "stdout",
     "output_type": "stream",
     "text": [
      "messages=[SystemMessage(content='Your job is to translate from English to french.', additional_kwargs={}, response_metadata={}), HumanMessage(content='Hello and Goodbye', additional_kwargs={}, response_metadata={})]\n"
     ]
    }
   ],
   "execution_count": 20
  },
  {
   "metadata": {
    "ExecuteTime": {
     "end_time": "2025-02-03T13:57:53.003848Z",
     "start_time": "2025-02-03T13:57:51.458469Z"
    }
   },
   "cell_type": "code",
   "source": "response = model.invoke(prompt)\n",
   "id": "58e57da264fb59c9",
   "outputs": [],
   "execution_count": 21
  },
  {
   "metadata": {
    "ExecuteTime": {
     "end_time": "2025-02-03T13:57:53.760114Z",
     "start_time": "2025-02-03T13:57:53.753933Z"
    }
   },
   "cell_type": "code",
   "source": "print(response.content)",
   "id": "dffbbfa417174063",
   "outputs": [
    {
     "name": "stdout",
     "output_type": "stream",
     "text": [
      "Bonjour et Au revoir\n"
     ]
    }
   ],
   "execution_count": 22
  },
  {
   "metadata": {},
   "cell_type": "code",
   "outputs": [],
   "execution_count": null,
   "source": "",
   "id": "136ded5465d0bf47"
  }
 ],
 "metadata": {
  "kernelspec": {
   "display_name": "Python 3",
   "language": "python",
   "name": "python3"
  },
  "language_info": {
   "codemirror_mode": {
    "name": "ipython",
    "version": 2
   },
   "file_extension": ".py",
   "mimetype": "text/x-python",
   "name": "python",
   "nbconvert_exporter": "python",
   "pygments_lexer": "ipython2",
   "version": "2.7.6"
  }
 },
 "nbformat": 4,
 "nbformat_minor": 5
}
